{
 "cells": [
  {
   "cell_type": "code",
   "execution_count": 2,
   "metadata": {},
   "outputs": [],
   "source": [
    "import os\n",
    "import pandas as pd"
   ]
  },
  {
   "cell_type": "code",
   "execution_count": 27,
   "metadata": {},
   "outputs": [],
   "source": [
    "cwd = os.getcwd() #current working directory\n",
    "BASE_DIR = os.path.dirname(cwd)\n",
    "data_dir = os.path.join(BASE_DIR, 'data')\n",
    "cache_dir = os.path.join(BASE_DIR, 'cache')\n",
    "os.makedirs(cache_dir, exist_ok = True)"
   ]
  },
  {
   "cell_type": "code",
   "execution_count": 4,
   "metadata": {},
   "outputs": [
    {
     "ename": "NameError",
     "evalue": "name 'DATA_DIR' is not defined",
     "output_type": "error",
     "traceback": [
      "\u001b[1;31m---------------------------------------------------------------------------\u001b[0m",
      "\u001b[1;31mNameError\u001b[0m                                 Traceback (most recent call last)",
      "\u001b[1;32m<ipython-input-4-67df3e16bd32>\u001b[0m in \u001b[0;36m<module>\u001b[1;34m\u001b[0m\n\u001b[1;32m----> 1\u001b[1;33m \u001b[1;32mfor\u001b[0m \u001b[0mfilename\u001b[0m \u001b[1;32min\u001b[0m \u001b[0mos\u001b[0m\u001b[1;33m.\u001b[0m\u001b[0mlistdir\u001b[0m\u001b[1;33m(\u001b[0m\u001b[0mDATA_DIR\u001b[0m\u001b[1;33m)\u001b[0m\u001b[1;33m:\u001b[0m\u001b[1;33m\u001b[0m\u001b[1;33m\u001b[0m\u001b[0m\n\u001b[0m\u001b[0;32m      2\u001b[0m     \u001b[0mprint\u001b[0m\u001b[1;33m(\u001b[0m\u001b[0mfilename\u001b[0m\u001b[1;33m,\u001b[0m \u001b[0mend\u001b[0m \u001b[1;33m=\u001b[0m \u001b[1;34m\" \"\u001b[0m\u001b[1;33m)\u001b[0m\u001b[1;33m\u001b[0m\u001b[1;33m\u001b[0m\u001b[0m\n",
      "\u001b[1;31mNameError\u001b[0m: name 'DATA_DIR' is not defined"
     ]
    }
   ],
   "source": [
    "for filename in os.listdir(DATA_DIR):\n",
    "    print(filename, end = \" \")"
   ]
  },
  {
   "cell_type": "code",
   "execution_count": null,
   "metadata": {},
   "outputs": [],
   "source": [
    "df = pd.read_csv(os.path.join(data_dir, '2010.csv'))\n",
    "df.head()"
   ]
  },
  {
   "cell_type": "code",
   "execution_count": null,
   "metadata": {},
   "outputs": [],
   "source": [
    "df['Year'] = 2010"
   ]
  },
  {
   "cell_type": "code",
   "execution_count": null,
   "metadata": {},
   "outputs": [],
   "source": [
    "df.head()"
   ]
  },
  {
   "cell_type": "code",
   "execution_count": 23,
   "metadata": {},
   "outputs": [],
   "source": [
    "csv_files = [x for x in os.listdir(data_dir) if x.endswith('.csv')]\n",
    "my_dataframes = []\n",
    "for filename in csv_files:\n",
    "#     print(filename, end = \" \")\n",
    "    year = filename[:4]\n",
    "    csv_path = os.path.join(data_dir, filename)\n",
    "    this_df = pd.read_csv(csv_path)\n",
    "    this_df['filename'] = filename    \n",
    "    this_df['year'] = year\n",
    "#     print(this_df.head(n = 1))\n",
    "    my_dataframes.append(this_df)"
   ]
  },
  {
   "cell_type": "code",
   "execution_count": 25,
   "metadata": {},
   "outputs": [
    {
     "data": {
      "text/html": [
       "<div>\n",
       "<style scoped>\n",
       "    .dataframe tbody tr th:only-of-type {\n",
       "        vertical-align: middle;\n",
       "    }\n",
       "\n",
       "    .dataframe tbody tr th {\n",
       "        vertical-align: top;\n",
       "    }\n",
       "\n",
       "    .dataframe thead th {\n",
       "        text-align: right;\n",
       "    }\n",
       "</style>\n",
       "<table border=\"1\" class=\"dataframe\">\n",
       "  <thead>\n",
       "    <tr style=\"text-align: right;\">\n",
       "      <th></th>\n",
       "      <th>Rank</th>\n",
       "      <th>Release Group</th>\n",
       "      <th>Worldwide</th>\n",
       "      <th>Domestic</th>\n",
       "      <th>%</th>\n",
       "      <th>Foreign</th>\n",
       "      <th>%.1</th>\n",
       "      <th>filename</th>\n",
       "      <th>year</th>\n",
       "    </tr>\n",
       "  </thead>\n",
       "  <tbody>\n",
       "    <tr>\n",
       "      <th>0</th>\n",
       "      <td>1</td>\n",
       "      <td>Toy Story 3</td>\n",
       "      <td>$1,066,969,703</td>\n",
       "      <td>$415,004,880</td>\n",
       "      <td>38.9%</td>\n",
       "      <td>$651,964,823</td>\n",
       "      <td>61.1%</td>\n",
       "      <td>2010.csv</td>\n",
       "      <td>2010</td>\n",
       "    </tr>\n",
       "    <tr>\n",
       "      <th>1</th>\n",
       "      <td>2</td>\n",
       "      <td>Alice in Wonderland</td>\n",
       "      <td>$1,025,467,110</td>\n",
       "      <td>$334,191,110</td>\n",
       "      <td>32.6%</td>\n",
       "      <td>$691,276,000</td>\n",
       "      <td>67.4%</td>\n",
       "      <td>2010.csv</td>\n",
       "      <td>2010</td>\n",
       "    </tr>\n",
       "    <tr>\n",
       "      <th>2</th>\n",
       "      <td>3</td>\n",
       "      <td>Harry Potter and the Deathly Hallows: Part 1</td>\n",
       "      <td>$976,536,918</td>\n",
       "      <td>$295,983,305</td>\n",
       "      <td>30.3%</td>\n",
       "      <td>$680,553,613</td>\n",
       "      <td>69.7%</td>\n",
       "      <td>2010.csv</td>\n",
       "      <td>2010</td>\n",
       "    </tr>\n",
       "    <tr>\n",
       "      <th>3</th>\n",
       "      <td>4</td>\n",
       "      <td>Inception</td>\n",
       "      <td>$826,137,188</td>\n",
       "      <td>$292,576,195</td>\n",
       "      <td>35.4%</td>\n",
       "      <td>$533,560,993</td>\n",
       "      <td>64.6%</td>\n",
       "      <td>2010.csv</td>\n",
       "      <td>2010</td>\n",
       "    </tr>\n",
       "    <tr>\n",
       "      <th>4</th>\n",
       "      <td>5</td>\n",
       "      <td>Shrek Forever After</td>\n",
       "      <td>$752,600,867</td>\n",
       "      <td>$238,736,787</td>\n",
       "      <td>31.7%</td>\n",
       "      <td>$513,864,080</td>\n",
       "      <td>68.3%</td>\n",
       "      <td>2010.csv</td>\n",
       "      <td>2010</td>\n",
       "    </tr>\n",
       "  </tbody>\n",
       "</table>\n",
       "</div>"
      ],
      "text/plain": [
       "   Rank                                 Release Group       Worldwide  \\\n",
       "0     1                                   Toy Story 3  $1,066,969,703   \n",
       "1     2                           Alice in Wonderland  $1,025,467,110   \n",
       "2     3  Harry Potter and the Deathly Hallows: Part 1    $976,536,918   \n",
       "3     4                                     Inception    $826,137,188   \n",
       "4     5                           Shrek Forever After    $752,600,867   \n",
       "\n",
       "       Domestic      %       Foreign    %.1  filename  year  \n",
       "0  $415,004,880  38.9%  $651,964,823  61.1%  2010.csv  2010  \n",
       "1  $334,191,110  32.6%  $691,276,000  67.4%  2010.csv  2010  \n",
       "2  $295,983,305  30.3%  $680,553,613  69.7%  2010.csv  2010  \n",
       "3  $292,576,195  35.4%  $533,560,993  64.6%  2010.csv  2010  \n",
       "4  $238,736,787  31.7%  $513,864,080  68.3%  2010.csv  2010  "
      ]
     },
     "execution_count": 25,
     "metadata": {},
     "output_type": "execute_result"
    }
   ],
   "source": [
    "entire_dataframe = pd.concat(my_dataframes)\n",
    "entire_dataframe.head()"
   ]
  },
  {
   "cell_type": "code",
   "execution_count": 26,
   "metadata": {},
   "outputs": [
    {
     "data": {
      "text/html": [
       "<div>\n",
       "<style scoped>\n",
       "    .dataframe tbody tr th:only-of-type {\n",
       "        vertical-align: middle;\n",
       "    }\n",
       "\n",
       "    .dataframe tbody tr th {\n",
       "        vertical-align: top;\n",
       "    }\n",
       "\n",
       "    .dataframe thead th {\n",
       "        text-align: right;\n",
       "    }\n",
       "</style>\n",
       "<table border=\"1\" class=\"dataframe\">\n",
       "  <thead>\n",
       "    <tr style=\"text-align: right;\">\n",
       "      <th></th>\n",
       "      <th>Rank</th>\n",
       "      <th>Release Group</th>\n",
       "      <th>Worldwide</th>\n",
       "      <th>Domestic</th>\n",
       "      <th>%</th>\n",
       "      <th>Foreign</th>\n",
       "      <th>%.1</th>\n",
       "      <th>filename</th>\n",
       "      <th>year</th>\n",
       "    </tr>\n",
       "  </thead>\n",
       "  <tbody>\n",
       "    <tr>\n",
       "      <th>194</th>\n",
       "      <td>195</td>\n",
       "      <td>The Fox Hunter</td>\n",
       "      <td>$1,577</td>\n",
       "      <td>$1,577</td>\n",
       "      <td>100%</td>\n",
       "      <td>-</td>\n",
       "      <td>-</td>\n",
       "      <td>2020.csv</td>\n",
       "      <td>2020</td>\n",
       "    </tr>\n",
       "    <tr>\n",
       "      <th>195</th>\n",
       "      <td>196</td>\n",
       "      <td>Hai Tang Hong</td>\n",
       "      <td>$1,107</td>\n",
       "      <td>$1,107</td>\n",
       "      <td>100%</td>\n",
       "      <td>-</td>\n",
       "      <td>-</td>\n",
       "      <td>2020.csv</td>\n",
       "      <td>2020</td>\n",
       "    </tr>\n",
       "    <tr>\n",
       "      <th>196</th>\n",
       "      <td>197</td>\n",
       "      <td>The Transcendents</td>\n",
       "      <td>$1,090</td>\n",
       "      <td>$1,090</td>\n",
       "      <td>100%</td>\n",
       "      <td>-</td>\n",
       "      <td>-</td>\n",
       "      <td>2020.csv</td>\n",
       "      <td>2020</td>\n",
       "    </tr>\n",
       "    <tr>\n",
       "      <th>197</th>\n",
       "      <td>198</td>\n",
       "      <td>Greater 2020 Re-release</td>\n",
       "      <td>$527</td>\n",
       "      <td>$527</td>\n",
       "      <td>100%</td>\n",
       "      <td>-</td>\n",
       "      <td>-</td>\n",
       "      <td>2020.csv</td>\n",
       "      <td>2020</td>\n",
       "    </tr>\n",
       "    <tr>\n",
       "      <th>198</th>\n",
       "      <td>199</td>\n",
       "      <td>Spaceship Earth</td>\n",
       "      <td>$168</td>\n",
       "      <td>-</td>\n",
       "      <td>-</td>\n",
       "      <td>$168</td>\n",
       "      <td>100%</td>\n",
       "      <td>2020.csv</td>\n",
       "      <td>2020</td>\n",
       "    </tr>\n",
       "  </tbody>\n",
       "</table>\n",
       "</div>"
      ],
      "text/plain": [
       "     Rank            Release Group Worldwide Domestic     % Foreign   %.1  \\\n",
       "194   195           The Fox Hunter    $1,577   $1,577  100%       -     -   \n",
       "195   196            Hai Tang Hong    $1,107   $1,107  100%       -     -   \n",
       "196   197        The Transcendents    $1,090   $1,090  100%       -     -   \n",
       "197   198  Greater 2020 Re-release      $527     $527  100%       -     -   \n",
       "198   199          Spaceship Earth      $168        -     -    $168  100%   \n",
       "\n",
       "     filename  year  \n",
       "194  2020.csv  2020  \n",
       "195  2020.csv  2020  \n",
       "196  2020.csv  2020  \n",
       "197  2020.csv  2020  \n",
       "198  2020.csv  2020  "
      ]
     },
     "execution_count": 26,
     "metadata": {},
     "output_type": "execute_result"
    }
   ],
   "source": [
    "entire_dataframe.tail()"
   ]
  },
  {
   "cell_type": "code",
   "execution_count": 29,
   "metadata": {},
   "outputs": [],
   "source": [
    "dataset = os.path.join(cache_dir, 'movies-boxoffice-dataset.csv')\n",
    "entire_dataframe.to_csv(dataset, index = False)"
   ]
  },
  {
   "cell_type": "code",
   "execution_count": null,
   "metadata": {},
   "outputs": [],
   "source": []
  }
 ],
 "metadata": {
  "kernelspec": {
   "display_name": "Python 3",
   "language": "python",
   "name": "python3"
  },
  "language_info": {
   "codemirror_mode": {
    "name": "ipython",
    "version": 3
   },
   "file_extension": ".py",
   "mimetype": "text/x-python",
   "name": "python",
   "nbconvert_exporter": "python",
   "pygments_lexer": "ipython3",
   "version": "3.8.3"
  }
 },
 "nbformat": 4,
 "nbformat_minor": 4
}
