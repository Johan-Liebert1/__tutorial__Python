{
 "cells": [
  {
   "cell_type": "code",
   "execution_count": 1,
   "metadata": {},
   "outputs": [],
   "source": [
    "import requests\n",
    "from requests_html import HTML\n",
    "from selenium import webdriver\n",
    "from selenium.webdriver.chrome.options import Options\n",
    "import time\n",
    "import re"
   ]
  },
  {
   "cell_type": "code",
   "execution_count": 2,
   "metadata": {},
   "outputs": [],
   "source": [
    "options = Options()\n",
    "options.add_argument(\"--headless\") # for selenium to work without opening a web browser\n",
    "driver = webdriver.Chrome(options = options)"
   ]
  },
  {
   "cell_type": "code",
   "execution_count": 3,
   "metadata": {},
   "outputs": [],
   "source": [
    "categories = [\n",
    "    'https://www.amazon.in/gp/bestsellers/books/',\n",
    "    'https://www.amazon.in/gp/bestsellers/toys/',\n",
    "    'https://www.amazon.in/gp/bestsellers/toys/1378290031/ref=zg_bs_nav_t_1_t'\n",
    "]"
   ]
  },
  {
   "cell_type": "code",
   "execution_count": 13,
   "metadata": {},
   "outputs": [],
   "source": [
    "first_url = categories[1]"
   ]
  },
  {
   "cell_type": "code",
   "execution_count": 14,
   "metadata": {},
   "outputs": [],
   "source": [
    "driver.get(first_url)\n",
    "body_el = driver.find_element_by_css_selector('body')\n",
    "html_str = body_el.get_attribute(\"innerHTML\")\n",
    "html_obj = HTML(html = html_str)"
   ]
  },
  {
   "cell_type": "code",
   "execution_count": 15,
   "metadata": {},
   "outputs": [],
   "source": [
    "new_links = [ x for x in html_obj.links if x.startswith('/') and 'product-reviews/' not in x]"
   ]
  },
  {
   "cell_type": "code",
   "execution_count": 16,
   "metadata": {},
   "outputs": [],
   "source": [
    "# page_links"
   ]
  },
  {
   "cell_type": "code",
   "execution_count": 17,
   "metadata": {},
   "outputs": [],
   "source": [
    "def scrape_product_page(url, title_lookup = \"#titleSection\", price_lookup = \"#priceblock_ourprice\"):\n",
    "    driver.get(url)\n",
    "    time.sleep(1.2)\n",
    "    body_el = driver.find_element_by_css_selector('body')\n",
    "    html_str = body_el.get_attribute(\"innerHTML\")\n",
    "    html_obj = HTML(html = html_str)\n",
    "    product_title = html_obj.find(title_lookup, first = True).text\n",
    "    product_price = html_obj.find(price_lookup,first = True).text\n",
    "    return product_title, product_price"
   ]
  },
  {
   "cell_type": "code",
   "execution_count": 18,
   "metadata": {},
   "outputs": [],
   "source": [
    "pattern = r'https://www.amazon.in/(?P<slug>[\\w-]+)/dp/(?P<product_id>[\\w-]+)/'\n",
    "# we're naming these       ^^^                  ^^^"
   ]
  },
  {
   "cell_type": "code",
   "execution_count": 19,
   "metadata": {},
   "outputs": [],
   "source": [
    "regex_options = [\n",
    "    r'https://www.amazon.in/dp/product/(?P<product_id>[\\w-]+)/',\n",
    "    r'https://www.amazon.in/dp/(?P<product_id>[\\w-]+)/',\n",
    "    r'https://www.amazon.in/(?P<slug>[\\w-]+)/dp/(?P<product_id>[\\w-]+)/'\n",
    "]\n",
    "\n",
    "def extract_product_id(url):\n",
    "    product_id = None\n",
    "    \n",
    "    for regex_pattern in regex_options:\n",
    "        regex = re.compile(regex_pattern)\n",
    "        my_match = regex.match(url)\n",
    "        \n",
    "        if my_match is not None:\n",
    "            try:\n",
    "                product_id = my_match['product_id']\n",
    "                \n",
    "            except:\n",
    "                pass\n",
    "    \n",
    "    return product_id"
   ]
  },
  {
   "cell_type": "code",
   "execution_count": 20,
   "metadata": {},
   "outputs": [],
   "source": [
    "page_links = [f'https://www.amazon.in{x}' for x in new_links]\n",
    "\n",
    "final_page_links = []\n",
    "\n",
    "for url in page_links:\n",
    "    prod_id = extract_product_id(url)\n",
    "    if prod_id is not None:\n",
    "        final_page_links.append({\"url\":url, \"product_id\": prod_id})"
   ]
  },
  {
   "cell_type": "code",
   "execution_count": 22,
   "metadata": {},
   "outputs": [],
   "source": [
    "def scrape(links = []):\n",
    "    data_extracted = []\n",
    "    \n",
    "    for obj in links:\n",
    "        link = obj['url']\n",
    "        prod_id = obj['product_id']\n",
    "        title, price = (None, None)\n",
    "        \n",
    "        try:\n",
    "            print(\"inside try\")\n",
    "            title, price = scrape_product_page(link)\n",
    "\n",
    "        except:\n",
    "            print(\"inside except\")\n",
    "            pass\n",
    "\n",
    "        if title is not None and price is not None:\n",
    "            print(link)\n",
    "            print(f'title = {title}, price = {price}')\n",
    "            \n",
    "        product_data = {\n",
    "            'url': link,\n",
    "            'product_id': prod_id,\n",
    "            'title': title,\n",
    "            'price': price\n",
    "        }\n",
    "        \n",
    "        data_extracted.append(product_data)\n",
    "        \n",
    "    return data_extracted"
   ]
  },
  {
   "cell_type": "code",
   "execution_count": 23,
   "metadata": {},
   "outputs": [
    {
     "name": "stdout",
     "output_type": "stream",
     "text": [
      "inside try\n",
      "https://www.amazon.in/iQKids-Educational-Physical-Chrome-Finish/dp/B07RM3555R/ref=zg_bs_toys_12?_encoding=UTF8&psc=1&refRID=977R9BVH0674JD5TWGY8\n",
      "title = GeoKraft Educational Political 5 Inches Laminated Small Globe with Plastic Arc and Base / World Globe / Home Decor / Office Decor / Gift Item (Blue), price = ₹ 288.00\n",
      "inside try\n",
      "https://www.amazon.in/Plastic-Bullet-Bullets-N-Strike-20-Pieces/dp/B07SGG4YTY/ref=zg_bs_toys_45?_encoding=UTF8&psc=1&refRID=977R9BVH0674JD5TWGY8\n",
      "title = SYGA Plastic Foam Toy Bullet Dart Bullets for Nerf N-Strike Elite Guns, 20-Pieces, Blue, price = ₹ 159.00\n",
      "inside try\n",
      "https://www.amazon.in/Extra-Lovable-Huggable-Girlfriend-Birthday/dp/B07CXLFG5P/ref=zg_bs_toys_1?_encoding=UTF8&psc=1&refRID=977R9BVH0674JD5TWGY8\n",
      "title = HUG 'n' FEEL SOFT TOYS Long Soft Lovable hugable Cute Giant Life Size Teddy Bear (2 Feet, Red), price = ₹ 449.00\n",
      "inside try\n",
      "https://www.amazon.in/Homecute-Type-Jumbo-House-Girls/dp/B07MHLHKX5/ref=zg_bs_toys_32?_encoding=UTF8&psc=1&refRID=977R9BVH0674JD5TWGY8\n",
      "title = Homecute Hut Type Kids Toys Jumbo Size Play Tent House for Boys and Girls (Pink), price = ₹ 1,599.00\n",
      "inside try\n",
      "https://www.amazon.in/Mattel-Scrabble-Board-Multi-Color/dp/B0000AP4RQ/ref=zg_bs_toys_37?_encoding=UTF8&psc=1&refRID=977R9BVH0674JD5TWGY8\n",
      "title = Mattel Scrabble Board Game, Multi Color, price = ₹ 639.00\n",
      "inside try\n",
      "https://www.amazon.in/Amitasha-Archery-Target-Outdoor-Garden/dp/B07R97BC49/ref=zg_bs_toys_40?_encoding=UTF8&psc=1&refRID=977R9BVH0674JD5TWGY8\n",
      "title = Amitasha Kids Archery Bow and Arrow Toy Set with Target Outdoor Garden Fun Game, price = ₹ 599.00\n",
      "inside try\n",
      "https://www.amazon.in/EEVOVEE-Coloured-Pool-Balls-Kids/dp/B078L9CXGH/ref=zg_bs_toys_38?_encoding=UTF8&psc=1&refRID=977R9BVH0674JD5TWGY8\n",
      "title = EevOveE 50 pcs Medium Size No Sharp Edges Premium Quality Balls Color Balls for Kids / Pool Balls Genuine Quality Set of 50 Balls - 6 cm Diameter(Medium Size), price = ₹ 299.00\n",
      "inside try\n",
      "https://www.amazon.in/Generic-Authentic-Standard-Wooden-Colors/dp/B01GCUOU8O/ref=zg_bs_toys_10?_encoding=UTF8&psc=1&refRID=977R9BVH0674JD5TWGY8\n",
      "title = Generic Imported Authentic Standard Wooden 12 Colors Set (120 Pieces), price = ₹ 365.00\n",
      "inside try\n",
      "inside except\n",
      "inside try\n",
      "inside except\n",
      "inside try\n",
      "https://www.amazon.in/Barbie-DJP92-Doll-and-Playset/dp/B014DEIYA6/ref=zg_bs_toys_19?_encoding=UTF8&psc=1&refRID=977R9BVH0674JD5TWGY8\n",
      "title = Barbie - DJP92 Doll & Playset with Hair Styling Accessories, Multi Color, price = ₹ 799.00\n",
      "inside try\n",
      "https://www.amazon.in/Jiada-Shape-Multipurpose-Pencil-Compartments/dp/B01N065GWE/ref=zg_bs_toys_47?_encoding=UTF8&psc=1&refRID=977R9BVH0674JD5TWGY8\n",
      "title = Jiada Car Shape Multipurpose Pencil Pouch with 2 Compartments - Big Size, price = ₹ 367.00\n",
      "inside try\n",
      "inside except\n",
      "inside try\n",
      "https://www.amazon.in/Funskool-Fundough-Fun-Pack-Fundough-Gift/dp/B07GS9ZJ5T/ref=zg_bs_toys_13?_encoding=UTF8&psc=1&refRID=977R9BVH0674JD5TWGY8\n",
      "title = Funskool-Fundough Fun Pack + Fundough Gift Set, price = ₹ 538.00\n",
      "inside try\n",
      "https://www.amazon.in/DZert-Fabric-Multicolour-Spiderman-Printed/dp/B07BNS3KNX/ref=zg_bs_toys_26?_encoding=UTF8&psc=1&refRID=977R9BVH0674JD5TWGY8\n",
      "title = Kids School Bag Soft Plush Backpack Cartoon Toy, Children's Gifts Boy Girl/Baby/ Decor School Bag for Kids (Spiderman), price = ₹ 288.00\n",
      "inside try\n",
      "https://www.amazon.in/WireScorts-Chargebal-Racing-Remote-Control/dp/B07X3LPQDG/ref=zg_bs_toys_25?_encoding=UTF8&psc=1&refRID=977R9BVH0674JD5TWGY8\n",
      "title = WireScorts Chargebal Racing Car for Kids with Remote Control - Assorted Design & Multi Color, price = ₹ 584.00\n",
      "inside try\n",
      "https://www.amazon.in/Cubelelo-Speedcubing-Warrior-Qizheng-Stickerless/dp/B07H5L1L1R/ref=zg_bs_toys_11?_encoding=UTF8&psc=1&refRID=977R9BVH0674JD5TWGY8\n",
      "title = Cubelelo QiYi 2x2 3x3 4x4 & 5x5 Stickerless Combo Set Speedcubing Bundle Cubes Magic Puzzle, price = ₹ 1,033.00\n",
      "inside try\n",
      "https://www.amazon.in/Negi-Pieces-Stainless-Utensils-Kitchen/dp/B07P7LVTHQ/ref=zg_bs_toys_42?_encoding=UTF8&psc=1&refRID=977R9BVH0674JD5TWGY8\n",
      "title = Negi 24pcs Mini Stainless Steel Utensils Non Toxic Indian Kitchen Set Great Kitchen Toys for Girls (Kid's Love Kitchen Set) ( It Has Sharp Edges Not Suitable for Small Baby ), price = ₹ 575.00\n",
      "inside try\n",
      "https://www.amazon.in/Nerf-N-Strike-Elite-Disruptor/dp/B01IK52REI/ref=zg_bs_toys_7?_encoding=UTF8&psc=1&refRID=977R9BVH0674JD5TWGY8\n",
      "title = Nerf N Strike Elite Disruptor, Multi Color, price = ₹ 749.00\n",
      "inside try\n",
      "https://www.amazon.in/WISHKEY-Colorful-Rattles-Teethers-Infants/dp/B07T7P97G2/ref=zg_bs_toys_6?_encoding=UTF8&psc=1&refRID=977R9BVH0674JD5TWGY8\n",
      "title = WISHKEY Colorful Non Toxic BPA Free 9 Rattles and 3 Teethers Toys Set for Babies ,Infants, price = ₹ 599.00\n",
      "inside try\n",
      "https://www.amazon.in/Mattel-Uno-Playing-Card-Game/dp/B00GTJSGXE/ref=zg_bs_toys_4?_encoding=UTF8&psc=1&refRID=977R9BVH0674JD5TWGY8\n",
      "title = Mattel Uno Playing Card Game, price = ₹ 129.00\n",
      "inside try\n",
      "https://www.amazon.in/Wish-key-Babys-Plastic-Multicolour/dp/B075K56GXY/ref=zg_bs_toys_48?_encoding=UTF8&psc=1&refRID=977R9BVH0674JD5TWGY8\n",
      "title = WISHKEY Baby Bath Toy Set of 14 Pcs Chu Chu Colorful Animal Shape Toy (Multicolor), price = ₹ 329.00\n",
      "inside try\n",
      "https://www.amazon.in/SUPER-TOY-Writing-Tablet-8-5Inch/dp/B07Z7QDH3D/ref=zg_bs_toys_34?_encoding=UTF8&psc=1&refRID=977R9BVH0674JD5TWGY8\n",
      "title = SUPER TOY LCD Writing Tablet 8.5Inch E-Note Pad, price = ₹ 399.00\n",
      "inside try\n",
      "https://www.amazon.in/SARIKA-TOYS-Birthday-Anniversar-Valentine/dp/B07ZJQXCDP/ref=zg_bs_toys_27?_encoding=UTF8&psc=1&refRID=977R9BVH0674JD5TWGY8\n",
      "title = SARIKA TOYS Lovable Hugable Soft Teddy Bear with Free Heart for Kids & Girls Special Gift for Birthday /Anniversar and Valentine (Red, 3 Feet), price = ₹ 417.00\n",
      "inside try\n",
      "https://www.amazon.in/Mattel-Hot-Wheels-pack-Design/dp/B000R33QMO/ref=zg_bs_toys_3?_encoding=UTF8&psc=1&refRID=977R9BVH0674JD5TWGY8\n",
      "title = Hot Wheels Mattel (3 Pack) Design May Vary, price = ₹ 349.00\n",
      "inside try\n",
      "inside except\n",
      "inside try\n",
      "https://www.amazon.in/Little-Monkey-Xylophone-Musical-Children/dp/B07GVMS2JK/ref=zg_bs_toys_49?_encoding=UTF8&psc=1&refRID=977R9BVH0674JD5TWGY8\n",
      "title = Little Monkey® Wooden Xylophone Musical Toy for Children with 8 Note (Big Size), price = ₹ 349.00\n",
      "inside try\n",
      "inside except\n",
      "inside try\n",
      "https://www.amazon.in/Jiada-Crystal-Transparent-Assorted-Colours/dp/B07BWJFJ1W/ref=zg_bs_toys_50?_encoding=UTF8&psc=1&refRID=977R9BVH0674JD5TWGY8\n",
      "title = Jiada Crystal Soft Clay and Slimes - Set of 6, price = ₹ 242.00\n",
      "inside try\n",
      "https://www.amazon.in/Littles-607-Junior-Ring-Multicolour/dp/B00ADZUNYK/ref=zg_bs_toys_5?_encoding=UTF8&psc=1&refRID=977R9BVH0674JD5TWGY8\n",
      "title = Little's Junior Ring (Multicolour), price = ₹ 199.00\n",
      "inside try\n",
      "https://www.amazon.in/Kit4Curious-Super-Kit-Items-kit/dp/B083WDNKY7/ref=zg_bs_toys_17?_encoding=UTF8&psc=1&refRID=977R9BVH0674JD5TWGY8\n",
      "title = Kit4Curious Super Kit 70 Items in a kit – Science & Fun Innovation Kit with Instruction Guide for 70 Projects, price = ₹ 499.00\n",
      "inside try\n",
      "https://www.amazon.in/Creative-Educational-Aids-P-Ltd/dp/B08GL2XDDR/ref=zg_bs_toys_15?_encoding=UTF8&psc=1&refRID=977R9BVH0674JD5TWGY8\n",
      "title = Creative Educational Aids P. Ltd. - CRE0639 Fun with Words Puzzle (Multi-Color, 90 Pieces) & Number Fun 123 Puzzle (Multi-Color, 40 Pieces) & Story Telling - 1 Card Game (Multi-Color, 12 Pieces), price = ₹ 537.00\n",
      "inside try\n",
      "https://www.amazon.in/Imagimake-Mapology-India-State-Capitals/dp/B076WQ3M5X/ref=zg_bs_toys_16?_encoding=UTF8&psc=1&refRID=977R9BVH0674JD5TWGY8\n",
      "title = Imagimake Mapology India with State Capitals - Educational Toy and Learning Aid for Boys and Girls-Map Puzzle-Jigsaw Puzzle., price = ₹ 379.00\n",
      "inside try\n",
      "inside except\n",
      "inside try\n",
      "https://www.amazon.in/Toyztrend-Junior-Stacking-Multicolour-Toddlers/dp/B075F7V3J4/ref=zg_bs_toys_14?_encoding=UTF8&psc=1&refRID=977R9BVH0674JD5TWGY8\n",
      "title = Toyztrend Junior Smiley Stacking Multicolour 5 Rings for Toddlers, price = ₹ 132.00\n",
      "inside try\n",
      "https://www.amazon.in/Camel-Camlin-Kokuyo-9900504-Colouring/dp/B00LY1G9EA/ref=zg_bs_toys_24?_encoding=UTF8&psc=1&refRID=977R9BVH0674JD5TWGY8\n",
      "title = Camel 9900504 Colouring Kit Combo 199, price = ₹ 189.00\n",
      "inside try\n",
      "https://www.amazon.in/Toyshine-Foam-Blaster-Range-Bullets/dp/B01N2W68DO/ref=zg_bs_toys_28?_encoding=UTF8&psc=1&refRID=977R9BVH0674JD5TWGY8\n",
      "title = Toyshine Foam Blaster Gun Toy, Safe and Long Range, 10 Bullets, price = ₹ 399.00\n",
      "inside try\n"
     ]
    },
    {
     "name": "stdout",
     "output_type": "stream",
     "text": [
      "https://www.amazon.in/Frank-10202-the-Jungle/dp/B007OUAP5E/ref=zg_bs_toys_8?_encoding=UTF8&psc=1&refRID=977R9BVH0674JD5TWGY8\n",
      "title = Frank - 10202 The Jungle Puzzle For 3 Year Old Kids And Above, price = ₹ 88.00\n",
      "inside try\n",
      "https://www.amazon.in/Fisher-Pri-71024-Babys-Blocks/dp/B00005N9YF/ref=zg_bs_toys_39?_encoding=UTF8&psc=1&refRID=977R9BVH0674JD5TWGY8\n",
      "title = Fisher Price Baby's First Blocks, price = ₹ 299.00\n",
      "inside try\n",
      "https://www.amazon.in/Jesper-Orignal-Teddy-Bear-Animals/dp/B089KHDF87/ref=zg_bs_toys_43?_encoding=UTF8&psc=1&refRID=977R9BVH0674JD5TWGY8\n",
      "title = Jesper Orignal Teddy Bear Animals for Kids - 2 Feet (61 cm, Red), price = ₹ 399.00\n",
      "inside try\n",
      "inside except\n",
      "inside try\n",
      "inside except\n",
      "inside try\n",
      "https://www.amazon.in/Smartcraft-Ultimate-Kitchen-Cooking-Suitcase/dp/B01MU75SMW/ref=zg_bs_toys_36?_encoding=UTF8&psc=1&refRID=977R9BVH0674JD5TWGY8\n",
      "title = Smartcraft Ultimate Kid Chef Bring Along Kitchen Cooking Suitcase Set (26 Pieces) - Multicolor, price = ₹ 619.00\n",
      "inside try\n",
      "https://www.amazon.in/StepsToDo-Ultimate-Unicorn-Rainbow-Crunchy/dp/B07VDN4LNN/ref=zg_bs_toys_31?_encoding=UTF8&psc=1&refRID=977R9BVH0674JD5TWGY8\n",
      "title = StepsToDo Ultimate Slime Lab. All in One. Make 20+ Slime. Milky, Unicorn Rainbow, Swirl, Crunchy, Foamy, Clear, Galaxy, Mermaid, Glitter, Sparkle, Jelly, PVA, Clear, White Glue, price = ₹ 589.00\n",
      "inside try\n",
      "https://www.amazon.in/Skillmatics-Educational-Game-Brain-Games/dp/B0719DBTXL/ref=zg_bs_toys_41?_encoding=UTF8&psc=1&refRID=977R9BVH0674JD5TWGY8\n",
      "title = Skillmatics Educational Game: Brain Games, 6-99 Years, price = ₹ 282.00\n",
      "inside try\n",
      "inside except\n",
      "inside try\n",
      "https://www.amazon.in/Rabbit-Road-Runner-Scooter-Kids/dp/B07K44MXLG/ref=zg_bs_toys_46?_encoding=UTF8&psc=1&refRID=977R9BVH0674JD5TWGY8\n",
      "title = R for Rabbit Road Runner Scooter for Kids of 3 to 14 Years Age 3 Adjustable Height, Foldable, LED PU Wheels & Weight Capacity 75 kgs Kick Scooter with Brakes(Blue), price = ₹ 2,997.00\n",
      "inside try\n",
      "https://www.amazon.in/Faber-Castell-Modelling-Dough-Pack-Assorted/dp/B00PTWNTLG/ref=zg_bs_toys_44?_encoding=UTF8&psc=1&refRID=977R9BVH0674JD5TWGY8\n",
      "title = Faber-Castell Modelling Dough - Pack of 4 (Assorted), price = ₹ 89.00\n"
     ]
    }
   ],
   "source": [
    "extracted_data = scrape(final_page_links)"
   ]
  },
  {
   "cell_type": "code",
   "execution_count": 24,
   "metadata": {},
   "outputs": [
    {
     "name": "stdout",
     "output_type": "stream",
     "text": [
      "[{'url': 'https://www.amazon.in/iQKids-Educational-Physical-Chrome-Finish/dp/B07RM3555R/ref=zg_bs_toys_12?_encoding=UTF8&psc=1&refRID=977R9BVH0674JD5TWGY8', 'product_id': 'B07RM3555R', 'title': 'GeoKraft Educational Political 5 Inches Laminated Small Globe with Plastic Arc and Base / World Globe / Home Decor / Office Decor / Gift Item (Blue)', 'price': '₹\\xa0288.00'}, {'url': 'https://www.amazon.in/Plastic-Bullet-Bullets-N-Strike-20-Pieces/dp/B07SGG4YTY/ref=zg_bs_toys_45?_encoding=UTF8&psc=1&refRID=977R9BVH0674JD5TWGY8', 'product_id': 'B07SGG4YTY', 'title': 'SYGA Plastic Foam Toy Bullet Dart Bullets for Nerf N-Strike Elite Guns, 20-Pieces, Blue', 'price': '₹\\xa0159.00'}, {'url': 'https://www.amazon.in/Extra-Lovable-Huggable-Girlfriend-Birthday/dp/B07CXLFG5P/ref=zg_bs_toys_1?_encoding=UTF8&psc=1&refRID=977R9BVH0674JD5TWGY8', 'product_id': 'B07CXLFG5P', 'title': \"HUG 'n' FEEL SOFT TOYS Long Soft Lovable hugable Cute Giant Life Size Teddy Bear (2 Feet, Red)\", 'price': '₹\\xa0449.00'}, {'url': 'https://www.amazon.in/Homecute-Type-Jumbo-House-Girls/dp/B07MHLHKX5/ref=zg_bs_toys_32?_encoding=UTF8&psc=1&refRID=977R9BVH0674JD5TWGY8', 'product_id': 'B07MHLHKX5', 'title': 'Homecute Hut Type Kids Toys Jumbo Size Play Tent House for Boys and Girls (Pink)', 'price': '₹\\xa01,599.00'}, {'url': 'https://www.amazon.in/Mattel-Scrabble-Board-Multi-Color/dp/B0000AP4RQ/ref=zg_bs_toys_37?_encoding=UTF8&psc=1&refRID=977R9BVH0674JD5TWGY8', 'product_id': 'B0000AP4RQ', 'title': 'Mattel Scrabble Board Game, Multi Color', 'price': '₹\\xa0639.00'}, {'url': 'https://www.amazon.in/Amitasha-Archery-Target-Outdoor-Garden/dp/B07R97BC49/ref=zg_bs_toys_40?_encoding=UTF8&psc=1&refRID=977R9BVH0674JD5TWGY8', 'product_id': 'B07R97BC49', 'title': 'Amitasha Kids Archery Bow and Arrow Toy Set with Target Outdoor Garden Fun Game', 'price': '₹\\xa0599.00'}, {'url': 'https://www.amazon.in/EEVOVEE-Coloured-Pool-Balls-Kids/dp/B078L9CXGH/ref=zg_bs_toys_38?_encoding=UTF8&psc=1&refRID=977R9BVH0674JD5TWGY8', 'product_id': 'B078L9CXGH', 'title': 'EevOveE 50 pcs Medium Size No Sharp Edges Premium Quality Balls Color Balls for Kids / Pool Balls Genuine Quality Set of 50 Balls - 6 cm Diameter(Medium Size)', 'price': '₹\\xa0299.00'}, {'url': 'https://www.amazon.in/Generic-Authentic-Standard-Wooden-Colors/dp/B01GCUOU8O/ref=zg_bs_toys_10?_encoding=UTF8&psc=1&refRID=977R9BVH0674JD5TWGY8', 'product_id': 'B01GCUOU8O', 'title': 'Generic Imported Authentic Standard Wooden 12 Colors Set (120 Pieces)', 'price': '₹\\xa0365.00'}, {'url': 'https://www.amazon.in/SaleOnTM-Realistic-Animals-Figures-Animal/dp/B07Y26NY45/ref=zg_bs_toys_21?_encoding=UTF8&psc=1&refRID=977R9BVH0674JD5TWGY8', 'product_id': 'B07Y26NY45', 'title': None, 'price': None}, {'url': 'https://www.amazon.in/FunBlast-Unbreakable-Vehicles-Crawling-Children/dp/B07PTXSS4G/ref=zg_bs_toys_35?_encoding=UTF8&psc=1&refRID=977R9BVH0674JD5TWGY8', 'product_id': 'B07PTXSS4G', 'title': None, 'price': None}, {'url': 'https://www.amazon.in/Barbie-DJP92-Doll-and-Playset/dp/B014DEIYA6/ref=zg_bs_toys_19?_encoding=UTF8&psc=1&refRID=977R9BVH0674JD5TWGY8', 'product_id': 'B014DEIYA6', 'title': 'Barbie - DJP92 Doll & Playset with Hair Styling Accessories, Multi Color', 'price': '₹\\xa0799.00'}, {'url': 'https://www.amazon.in/Jiada-Shape-Multipurpose-Pencil-Compartments/dp/B01N065GWE/ref=zg_bs_toys_47?_encoding=UTF8&psc=1&refRID=977R9BVH0674JD5TWGY8', 'product_id': 'B01N065GWE', 'title': 'Jiada Car Shape Multipurpose Pencil Pouch with 2 Compartments - Big Size', 'price': '₹\\xa0367.00'}, {'url': 'https://www.amazon.in/FunBlast-Pieces-Interlocking-Learning-Alphabet/dp/B07NX15BY8/ref=zg_bs_toys_18?_encoding=UTF8&psc=1&refRID=977R9BVH0674JD5TWGY8', 'product_id': 'B07NX15BY8', 'title': None, 'price': None}, {'url': 'https://www.amazon.in/Funskool-Fundough-Fun-Pack-Fundough-Gift/dp/B07GS9ZJ5T/ref=zg_bs_toys_13?_encoding=UTF8&psc=1&refRID=977R9BVH0674JD5TWGY8', 'product_id': 'B07GS9ZJ5T', 'title': 'Funskool-Fundough Fun Pack + Fundough Gift Set', 'price': '₹\\xa0538.00'}, {'url': 'https://www.amazon.in/DZert-Fabric-Multicolour-Spiderman-Printed/dp/B07BNS3KNX/ref=zg_bs_toys_26?_encoding=UTF8&psc=1&refRID=977R9BVH0674JD5TWGY8', 'product_id': 'B07BNS3KNX', 'title': \"Kids School Bag Soft Plush Backpack Cartoon Toy, Children's Gifts Boy Girl/Baby/ Decor School Bag for Kids (Spiderman)\", 'price': '₹\\xa0288.00'}, {'url': 'https://www.amazon.in/WireScorts-Chargebal-Racing-Remote-Control/dp/B07X3LPQDG/ref=zg_bs_toys_25?_encoding=UTF8&psc=1&refRID=977R9BVH0674JD5TWGY8', 'product_id': 'B07X3LPQDG', 'title': 'WireScorts Chargebal Racing Car for Kids with Remote Control - Assorted Design & Multi Color', 'price': '₹\\xa0584.00'}, {'url': 'https://www.amazon.in/Cubelelo-Speedcubing-Warrior-Qizheng-Stickerless/dp/B07H5L1L1R/ref=zg_bs_toys_11?_encoding=UTF8&psc=1&refRID=977R9BVH0674JD5TWGY8', 'product_id': 'B07H5L1L1R', 'title': 'Cubelelo QiYi 2x2 3x3 4x4 & 5x5 Stickerless Combo Set Speedcubing Bundle Cubes Magic Puzzle', 'price': '₹\\xa01,033.00'}, {'url': 'https://www.amazon.in/Negi-Pieces-Stainless-Utensils-Kitchen/dp/B07P7LVTHQ/ref=zg_bs_toys_42?_encoding=UTF8&psc=1&refRID=977R9BVH0674JD5TWGY8', 'product_id': 'B07P7LVTHQ', 'title': \"Negi 24pcs Mini Stainless Steel Utensils Non Toxic Indian Kitchen Set Great Kitchen Toys for Girls (Kid's Love Kitchen Set) ( It Has Sharp Edges Not Suitable for Small Baby )\", 'price': '₹\\xa0575.00'}, {'url': 'https://www.amazon.in/Nerf-N-Strike-Elite-Disruptor/dp/B01IK52REI/ref=zg_bs_toys_7?_encoding=UTF8&psc=1&refRID=977R9BVH0674JD5TWGY8', 'product_id': 'B01IK52REI', 'title': 'Nerf N Strike Elite Disruptor, Multi Color', 'price': '₹\\xa0749.00'}, {'url': 'https://www.amazon.in/WISHKEY-Colorful-Rattles-Teethers-Infants/dp/B07T7P97G2/ref=zg_bs_toys_6?_encoding=UTF8&psc=1&refRID=977R9BVH0674JD5TWGY8', 'product_id': 'B07T7P97G2', 'title': 'WISHKEY Colorful Non Toxic BPA Free 9 Rattles and 3 Teethers Toys Set for Babies ,Infants', 'price': '₹\\xa0599.00'}, {'url': 'https://www.amazon.in/Mattel-Uno-Playing-Card-Game/dp/B00GTJSGXE/ref=zg_bs_toys_4?_encoding=UTF8&psc=1&refRID=977R9BVH0674JD5TWGY8', 'product_id': 'B00GTJSGXE', 'title': 'Mattel Uno Playing Card Game', 'price': '₹\\xa0129.00'}, {'url': 'https://www.amazon.in/Wish-key-Babys-Plastic-Multicolour/dp/B075K56GXY/ref=zg_bs_toys_48?_encoding=UTF8&psc=1&refRID=977R9BVH0674JD5TWGY8', 'product_id': 'B075K56GXY', 'title': 'WISHKEY Baby Bath Toy Set of 14 Pcs Chu Chu Colorful Animal Shape Toy (Multicolor)', 'price': '₹\\xa0329.00'}, {'url': 'https://www.amazon.in/SUPER-TOY-Writing-Tablet-8-5Inch/dp/B07Z7QDH3D/ref=zg_bs_toys_34?_encoding=UTF8&psc=1&refRID=977R9BVH0674JD5TWGY8', 'product_id': 'B07Z7QDH3D', 'title': 'SUPER TOY LCD Writing Tablet 8.5Inch E-Note Pad', 'price': '₹\\xa0399.00'}, {'url': 'https://www.amazon.in/SARIKA-TOYS-Birthday-Anniversar-Valentine/dp/B07ZJQXCDP/ref=zg_bs_toys_27?_encoding=UTF8&psc=1&refRID=977R9BVH0674JD5TWGY8', 'product_id': 'B07ZJQXCDP', 'title': 'SARIKA TOYS Lovable Hugable Soft Teddy Bear with Free Heart for Kids & Girls Special Gift for Birthday /Anniversar and Valentine (Red, 3 Feet)', 'price': '₹\\xa0417.00'}, {'url': 'https://www.amazon.in/Mattel-Hot-Wheels-pack-Design/dp/B000R33QMO/ref=zg_bs_toys_3?_encoding=UTF8&psc=1&refRID=977R9BVH0674JD5TWGY8', 'product_id': 'B000R33QMO', 'title': 'Hot Wheels Mattel (3 Pack) Design May Vary', 'price': '₹\\xa0349.00'}, {'url': 'https://www.amazon.in/Prime-Deals-Rechargeable-Racing-Control/dp/B083BY3RG6/ref=zg_bs_toys_20?_encoding=UTF8&psc=1&refRID=977R9BVH0674JD5TWGY8', 'product_id': 'B083BY3RG6', 'title': None, 'price': None}, {'url': 'https://www.amazon.in/Little-Monkey-Xylophone-Musical-Children/dp/B07GVMS2JK/ref=zg_bs_toys_49?_encoding=UTF8&psc=1&refRID=977R9BVH0674JD5TWGY8', 'product_id': 'B07GVMS2JK', 'title': 'Little Monkey® Wooden Xylophone Musical Toy for Children with 8 Note (Big Size)', 'price': '₹\\xa0349.00'}, {'url': 'https://www.amazon.in/Sky-Rechargeable-Racing-Remote-Control/dp/B08DG16VRT/ref=zg_bs_toys_9?_encoding=UTF8&psc=1&refRID=977R9BVH0674JD5TWGY8&smid=A10VQ3JK8OUQ3P', 'product_id': 'B08DG16VRT', 'title': None, 'price': None}, {'url': 'https://www.amazon.in/Jiada-Crystal-Transparent-Assorted-Colours/dp/B07BWJFJ1W/ref=zg_bs_toys_50?_encoding=UTF8&psc=1&refRID=977R9BVH0674JD5TWGY8', 'product_id': 'B07BWJFJ1W', 'title': 'Jiada Crystal Soft Clay and Slimes - Set of 6', 'price': '₹\\xa0242.00'}, {'url': 'https://www.amazon.in/Littles-607-Junior-Ring-Multicolour/dp/B00ADZUNYK/ref=zg_bs_toys_5?_encoding=UTF8&psc=1&refRID=977R9BVH0674JD5TWGY8', 'product_id': 'B00ADZUNYK', 'title': \"Little's Junior Ring (Multicolour)\", 'price': '₹\\xa0199.00'}, {'url': 'https://www.amazon.in/Kit4Curious-Super-Kit-Items-kit/dp/B083WDNKY7/ref=zg_bs_toys_17?_encoding=UTF8&psc=1&refRID=977R9BVH0674JD5TWGY8', 'product_id': 'B083WDNKY7', 'title': 'Kit4Curious Super Kit 70 Items in a kit – Science & Fun Innovation Kit with Instruction Guide for 70 Projects', 'price': '₹\\xa0499.00'}, {'url': 'https://www.amazon.in/Creative-Educational-Aids-P-Ltd/dp/B08GL2XDDR/ref=zg_bs_toys_15?_encoding=UTF8&psc=1&refRID=977R9BVH0674JD5TWGY8', 'product_id': 'B08GL2XDDR', 'title': 'Creative Educational Aids P. Ltd. - CRE0639 Fun with Words Puzzle (Multi-Color, 90 Pieces) & Number Fun 123 Puzzle (Multi-Color, 40 Pieces) & Story Telling - 1 Card Game (Multi-Color, 12 Pieces)', 'price': '₹\\xa0537.00'}, {'url': 'https://www.amazon.in/Imagimake-Mapology-India-State-Capitals/dp/B076WQ3M5X/ref=zg_bs_toys_16?_encoding=UTF8&psc=1&refRID=977R9BVH0674JD5TWGY8', 'product_id': 'B076WQ3M5X', 'title': 'Imagimake Mapology India with State Capitals - Educational Toy and Learning Aid for Boys and Girls-Map Puzzle-Jigsaw Puzzle.', 'price': '₹\\xa0379.00'}, {'url': 'https://www.amazon.in/Qualimate-Induction-Electronic-Charging-Helicopter/dp/B08CC96CGM/ref=zg_bs_toys_33?_encoding=UTF8&psc=1&refRID=977R9BVH0674JD5TWGY8', 'product_id': 'B08CC96CGM', 'title': None, 'price': None}, {'url': 'https://www.amazon.in/Toyztrend-Junior-Stacking-Multicolour-Toddlers/dp/B075F7V3J4/ref=zg_bs_toys_14?_encoding=UTF8&psc=1&refRID=977R9BVH0674JD5TWGY8', 'product_id': 'B075F7V3J4', 'title': 'Toyztrend Junior Smiley Stacking Multicolour 5 Rings for Toddlers', 'price': '₹\\xa0132.00'}, {'url': 'https://www.amazon.in/Camel-Camlin-Kokuyo-9900504-Colouring/dp/B00LY1G9EA/ref=zg_bs_toys_24?_encoding=UTF8&psc=1&refRID=977R9BVH0674JD5TWGY8', 'product_id': 'B00LY1G9EA', 'title': 'Camel 9900504 Colouring Kit Combo 199', 'price': '₹\\xa0189.00'}, {'url': 'https://www.amazon.in/Toyshine-Foam-Blaster-Range-Bullets/dp/B01N2W68DO/ref=zg_bs_toys_28?_encoding=UTF8&psc=1&refRID=977R9BVH0674JD5TWGY8', 'product_id': 'B01N2W68DO', 'title': 'Toyshine Foam Blaster Gun Toy, Safe and Long Range, 10 Bullets', 'price': '₹\\xa0399.00'}, {'url': 'https://www.amazon.in/Frank-10202-the-Jungle/dp/B007OUAP5E/ref=zg_bs_toys_8?_encoding=UTF8&psc=1&refRID=977R9BVH0674JD5TWGY8', 'product_id': 'B007OUAP5E', 'title': 'Frank - 10202 The Jungle Puzzle For 3 Year Old Kids And Above', 'price': '₹\\xa088.00'}, {'url': 'https://www.amazon.in/Fisher-Pri-71024-Babys-Blocks/dp/B00005N9YF/ref=zg_bs_toys_39?_encoding=UTF8&psc=1&refRID=977R9BVH0674JD5TWGY8', 'product_id': 'B00005N9YF', 'title': \"Fisher Price Baby's First Blocks\", 'price': '₹\\xa0299.00'}, {'url': 'https://www.amazon.in/Jesper-Orignal-Teddy-Bear-Animals/dp/B089KHDF87/ref=zg_bs_toys_43?_encoding=UTF8&psc=1&refRID=977R9BVH0674JD5TWGY8', 'product_id': 'B089KHDF87', 'title': 'Jesper Orignal Teddy Bear Animals for Kids - 2 Feet (61 cm, Red)', 'price': '₹\\xa0399.00'}, {'url': 'https://www.amazon.in/Construction-Interlockig-Connection-Educational-Multicolor/dp/B083GT476M/ref=zg_bs_toys_2?_encoding=UTF8&psc=1&refRID=977R9BVH0674JD5TWGY8', 'product_id': 'B083GT476M', 'title': None, 'price': None}, {'url': 'https://www.amazon.in/FunBlast-Building-Blocks-Packing-Multicolor/dp/B07KYMYBXN/ref=zg_bs_toys_23?_encoding=UTF8&psc=1&refRID=977R9BVH0674JD5TWGY8', 'product_id': 'B07KYMYBXN', 'title': None, 'price': None}, {'url': 'https://www.amazon.in/Smartcraft-Ultimate-Kitchen-Cooking-Suitcase/dp/B01MU75SMW/ref=zg_bs_toys_36?_encoding=UTF8&psc=1&refRID=977R9BVH0674JD5TWGY8', 'product_id': 'B01MU75SMW', 'title': 'Smartcraft Ultimate Kid Chef Bring Along Kitchen Cooking Suitcase Set (26 Pieces) - Multicolor', 'price': '₹\\xa0619.00'}, {'url': 'https://www.amazon.in/StepsToDo-Ultimate-Unicorn-Rainbow-Crunchy/dp/B07VDN4LNN/ref=zg_bs_toys_31?_encoding=UTF8&psc=1&refRID=977R9BVH0674JD5TWGY8', 'product_id': 'B07VDN4LNN', 'title': 'StepsToDo Ultimate Slime Lab. All in One. Make 20+ Slime. Milky, Unicorn Rainbow, Swirl, Crunchy, Foamy, Clear, Galaxy, Mermaid, Glitter, Sparkle, Jelly, PVA, Clear, White Glue', 'price': '₹\\xa0589.00'}, {'url': 'https://www.amazon.in/Skillmatics-Educational-Game-Brain-Games/dp/B0719DBTXL/ref=zg_bs_toys_41?_encoding=UTF8&psc=1&refRID=977R9BVH0674JD5TWGY8', 'product_id': 'B0719DBTXL', 'title': 'Skillmatics Educational Game: Brain Games, 6-99 Years', 'price': '₹\\xa0282.00'}, {'url': 'https://www.amazon.in/ESnipe-Activities-Laptop-Notebook-Computer/dp/B07Z3CRZ61/ref=zg_bs_toys_30?_encoding=UTF8&psc=1&refRID=977R9BVH0674JD5TWGY8', 'product_id': 'B07Z3CRZ61', 'title': None, 'price': None}, {'url': 'https://www.amazon.in/Rabbit-Road-Runner-Scooter-Kids/dp/B07K44MXLG/ref=zg_bs_toys_46?_encoding=UTF8&psc=1&refRID=977R9BVH0674JD5TWGY8', 'product_id': 'B07K44MXLG', 'title': 'R for Rabbit Road Runner Scooter for Kids of 3 to 14 Years Age 3 Adjustable Height, Foldable, LED PU Wheels & Weight Capacity 75 kgs Kick Scooter with Brakes(Blue)', 'price': '₹\\xa02,997.00'}, {'url': 'https://www.amazon.in/Faber-Castell-Modelling-Dough-Pack-Assorted/dp/B00PTWNTLG/ref=zg_bs_toys_44?_encoding=UTF8&psc=1&refRID=977R9BVH0674JD5TWGY8', 'product_id': 'B00PTWNTLG', 'title': 'Faber-Castell Modelling Dough - Pack of 4 (Assorted)', 'price': '₹\\xa089.00'}]\n"
     ]
    }
   ],
   "source": [
    "import pp\n",
    "print(extracted_data)"
   ]
  }
 ],
 "metadata": {
  "kernelspec": {
   "display_name": "Python 3",
   "language": "python",
   "name": "python3"
  },
  "language_info": {
   "codemirror_mode": {
    "name": "ipython",
    "version": 3
   },
   "file_extension": ".py",
   "mimetype": "text/x-python",
   "name": "python",
   "nbconvert_exporter": "python",
   "pygments_lexer": "ipython3",
   "version": "3.8.3"
  }
 },
 "nbformat": 4,
 "nbformat_minor": 4
}
